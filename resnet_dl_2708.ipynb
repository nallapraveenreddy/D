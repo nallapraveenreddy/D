{
  "cells": [
    {
      "cell_type": "markdown",
      "metadata": {
        "id": "view-in-github",
        "colab_type": "text"
      },
      "source": [
        "<a href=\"https://colab.research.google.com/github/nallapraveenreddy/DL/blob/main/resnet_dl_2708.ipynb\" target=\"_parent\"><img src=\"https://colab.research.google.com/assets/colab-badge.svg\" alt=\"Open In Colab\"/></a>"
      ]
    },
    {
      "cell_type": "code",
      "execution_count": 9,
      "metadata": {
        "id": "Mg8ZuYZ9LcGa"
      },
      "outputs": [],
      "source": [
        "import torch\n",
        "import torch.nn as nn\n",
        "import torch.nn.functional as F\n",
        "from torchvision.datasets import CIFAR10\n",
        "from torchvision import transforms\n",
        "from torch.utils.data import DataLoader\n",
        "from torchvision import models\n",
        "import torch.optim as optim"
      ]
    },
    {
      "cell_type": "code",
      "execution_count": 10,
      "metadata": {
        "id": "V9-Fj9HcMGjp"
      },
      "outputs": [],
      "source": [
        "t = transforms.Compose([transforms.ToTensor(),transforms.Normalize((0.5,0.5,0.5),(0.5,0.5,0.5))])"
      ]
    },
    {
      "cell_type": "code",
      "execution_count": 11,
      "metadata": {
        "colab": {
          "base_uri": "https://localhost:8080/"
        },
        "id": "-mpY_A_XN6GT",
        "outputId": "34809787-e5db-4dc1-93ee-dc36c02933d6"
      },
      "outputs": [
        {
          "output_type": "stream",
          "name": "stdout",
          "text": [
            "Files already downloaded and verified\n",
            "Files already downloaded and verified\n"
          ]
        }
      ],
      "source": [
        "train_data = CIFAR10(root = './data',train = True,download = True,transform = t)\n",
        "test_data = CIFAR10(root = './data',train = False,download = True,transform = t)"
      ]
    },
    {
      "cell_type": "code",
      "execution_count": 18,
      "metadata": {
        "id": "8CEuB6YXM7-o"
      },
      "outputs": [],
      "source": [
        "train_loader = DataLoader(train_data,batch_size = 64,shuffle = True)\n",
        "test_loader = DataLoader(test_data,batch_size = 64,shuffle = False)"
      ]
    },
    {
      "cell_type": "code",
      "execution_count": 19,
      "metadata": {
        "id": "HjyNYnd4NhT-"
      },
      "outputs": [],
      "source": [
        "model = models.resnet18(pretrained = True)"
      ]
    },
    {
      "cell_type": "code",
      "execution_count": 20,
      "metadata": {
        "id": "gN_hZqBfOKuM"
      },
      "outputs": [],
      "source": [
        "for param in model.parameters():\n",
        "    param.requires_grad = False\n",
        "\n",
        "in_features = model.fc.in_features\n",
        "model.fc = nn.Linear(model.fc.in_features, 10)"
      ]
    },
    {
      "cell_type": "code",
      "execution_count": 21,
      "metadata": {
        "id": "DDseKfkiQMG1"
      },
      "outputs": [],
      "source": [
        "criterian = nn.CrossEntropyLoss()\n",
        "optimizer = optim.Adam(model.fc.parameters(),lr = 0.001)"
      ]
    },
    {
      "cell_type": "code",
      "execution_count": 22,
      "metadata": {
        "colab": {
          "base_uri": "https://localhost:8080/"
        },
        "id": "9KF5U-TLQuEZ",
        "outputId": "cbf09de1-45d0-495a-c1dd-760d3b3daefc"
      },
      "outputs": [
        {
          "output_type": "stream",
          "name": "stdout",
          "text": [
            "Epoch 1 Loss: 1.7298992177104706\n",
            "Epoch 2 Loss: 1.5945971013639895\n",
            "Epoch 3 Loss: 1.581930837210487\n",
            "Epoch 4 Loss: 1.5756088167505191\n",
            "Epoch 5 Loss: 1.5636309219138396\n"
          ]
        }
      ],
      "source": [
        "for epoch in range(5):\n",
        "  model.train()\n",
        "  running_loss = 0\n",
        "  for data,target in train_loader:\n",
        "    optimizer.zero_grad()\n",
        "    output = model(data)\n",
        "    loss = criterian(output,target)\n",
        "    loss.backward()\n",
        "    optimizer.step()\n",
        "    running_loss += loss.item()\n",
        "  print(f\"Epoch {epoch+1} Loss: {running_loss/len(train_loader)}\")\n"
      ]
    },
    {
      "cell_type": "code",
      "execution_count": 23,
      "metadata": {
        "colab": {
          "base_uri": "https://localhost:8080/"
        },
        "id": "NebhTSIARK6Z",
        "outputId": "a6b35db2-310f-41c7-ec5f-9685dd17a8f4"
      },
      "outputs": [
        {
          "output_type": "stream",
          "name": "stdout",
          "text": [
            "Accuracy:46.17\n"
          ]
        }
      ],
      "source": [
        "model.eval()\n",
        "with torch.no_grad():\n",
        "  correct = 0\n",
        "  total = 0\n",
        "  for data,target in test_loader:\n",
        "    output = model(data)\n",
        "    _,predicted = torch.max(output.data,1)\n",
        "    total += target.size(0)\n",
        "    correct += (predicted == target).sum().item()\n",
        "  print(f'Accuracy:{(correct/total)*100}')"
      ]
    },
    {
      "cell_type": "code",
      "execution_count": 23,
      "metadata": {
        "id": "PZlre_LsUGnh"
      },
      "outputs": [],
      "source": []
    }
  ],
  "metadata": {
    "accelerator": "GPU",
    "colab": {
      "gpuType": "T4",
      "provenance": [],
      "authorship_tag": "ABX9TyOk+Fw96tRC3rt3c+GXh4FP",
      "include_colab_link": true
    },
    "kernelspec": {
      "display_name": "Python 3",
      "name": "python3"
    },
    "language_info": {
      "name": "python"
    }
  },
  "nbformat": 4,
  "nbformat_minor": 0
}